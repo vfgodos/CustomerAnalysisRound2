{
 "cells": [
  {
   "cell_type": "code",
   "execution_count": 1,
   "id": "7c5f649e",
   "metadata": {},
   "outputs": [],
   "source": [
    "import pandas as pd\n",
    "import numpy as np\n",
    "import matplotlib.pyplot as plt\n",
    "import seaborn as sns \n",
    "%matplotlib inline "
   ]
  },
  {
   "cell_type": "code",
   "execution_count": 2,
   "id": "924776cb",
   "metadata": {},
   "outputs": [
    {
     "data": {
      "text/plain": [
       "(9134, 24)"
      ]
     },
     "execution_count": 2,
     "metadata": {},
     "output_type": "execute_result"
    }
   ],
   "source": [
    "file = pd.read_csv('marketing_customer_analysis.csv')\n",
    "file.shape"
   ]
  },
  {
   "cell_type": "code",
   "execution_count": null,
   "id": "6ef96a7b",
   "metadata": {},
   "outputs": [],
   "source": [
    "file.head()"
   ]
  },
  {
   "cell_type": "code",
   "execution_count": null,
   "id": "7754d79c",
   "metadata": {},
   "outputs": [],
   "source": [
    "file = file.drop(['Unnamed: 0'], axis=1)\n",
    "file = file.rename(columns={'EmploymentStatus':'Employment Status'})"
   ]
  },
  {
   "cell_type": "code",
   "execution_count": null,
   "id": "532d0161",
   "metadata": {
    "slideshow": {
     "slide_type": "-"
    }
   },
   "outputs": [],
   "source": [
    "file.head()"
   ]
  },
  {
   "cell_type": "code",
   "execution_count": null,
   "id": "25ac8309",
   "metadata": {},
   "outputs": [],
   "source": [
    "file.dtypes"
   ]
  },
  {
   "cell_type": "code",
   "execution_count": null,
   "id": "f13244aa",
   "metadata": {
    "scrolled": true
   },
   "outputs": [],
   "source": [
    "file.select_dtypes('number')"
   ]
  },
  {
   "cell_type": "code",
   "execution_count": null,
   "id": "62897162",
   "metadata": {},
   "outputs": [],
   "source": [
    "file.select_dtypes('object')"
   ]
  },
  {
   "cell_type": "code",
   "execution_count": null,
   "id": "0e4b085f",
   "metadata": {},
   "outputs": [],
   "source": [
    "#Numerical columns: Customer Lifetime Value, Income, Monthly Premium Auto,Months Since Last Claim, Months Since Policy Inception, Number of Open Complaints, Number of Policies, Total Claim Amount \n",
    "#Categorical columns: State, Coverage, Education, Employment Status, Gender, Policy Type, Policy, Renew Offer Type, Sales Channel, Vehicle Class, Vehicle Size, Vehicle Type   \n"
   ]
  },
  {
   "cell_type": "code",
   "execution_count": null,
   "id": "7d5a2867",
   "metadata": {},
   "outputs": [],
   "source": [
    "file.isna().sum()"
   ]
  },
  {
   "cell_type": "code",
   "execution_count": null,
   "id": "8b5e2172",
   "metadata": {},
   "outputs": [],
   "source": [
    "#Months Since Last Claim: I've decided to do the mean of the rest of the values\n",
    "mean_Months_Since_Last_Claim = file['Months Since Last Claim'].mean()\n",
    "mean_Months_Since_Last_Claim\n",
    "file['Months Since Last Claim'] = file['Months Since Last Claim'].fillna(mean_Months_Since_Last_Claim)"
   ]
  },
  {
   "cell_type": "code",
   "execution_count": null,
   "id": "37b2851f",
   "metadata": {},
   "outputs": [],
   "source": [
    "#Number of complaints: I've decided to take the median because the range of values was very short\n",
    "median_Num_Com = file['Number of Open Complaints'].median()\n",
    "median_Num_Com\n",
    "file['Number of Open Complaints'] = file['Number of Open Complaints'].fillna(median_Num_Com)\n",
    "\n"
   ]
  },
  {
   "cell_type": "code",
   "execution_count": null,
   "id": "ffc87423",
   "metadata": {},
   "outputs": [],
   "source": [
    "#Response: I've decided to use the most common value\n",
    "file['Response'].unique()\n",
    "file['Response'].value_counts()"
   ]
  },
  {
   "cell_type": "code",
   "execution_count": null,
   "id": "578340d5",
   "metadata": {},
   "outputs": [],
   "source": [
    "file['Response'] = file['Response'].fillna('No')"
   ]
  },
  {
   "cell_type": "code",
   "execution_count": null,
   "id": "6d6eeb00",
   "metadata": {},
   "outputs": [],
   "source": [
    "file['Vehicle Class'].unique()\n",
    "file['Vehicle Class'].value_counts()"
   ]
  },
  {
   "cell_type": "code",
   "execution_count": null,
   "id": "d8de8826",
   "metadata": {},
   "outputs": [],
   "source": [
    "#Vehicle Class: I've decided to use the most common value because it represents more than the 50% of the answers\n",
    "file['Vehicle Class'] = file['Vehicle Class'].fillna('Four-Door Car')"
   ]
  },
  {
   "cell_type": "code",
   "execution_count": null,
   "id": "5ac1bf29",
   "metadata": {},
   "outputs": [],
   "source": [
    "file['Vehicle Size'].unique()\n",
    "file['Vehicle Size'].value_counts()"
   ]
  },
  {
   "cell_type": "code",
   "execution_count": null,
   "id": "03da49ae",
   "metadata": {},
   "outputs": [],
   "source": [
    "#Vehicle Size: again, I've decided to use the most common value because it represents more than the 50% of the answers\n",
    "file['Vehicle Size'] = file['Vehicle Size'].fillna('Medsize')"
   ]
  },
  {
   "cell_type": "code",
   "execution_count": null,
   "id": "6d4d01ce",
   "metadata": {},
   "outputs": [],
   "source": [
    "file['State'].unique()\n",
    "file['State'].value_counts()"
   ]
  },
  {
   "cell_type": "code",
   "execution_count": null,
   "id": "976a4a3e",
   "metadata": {},
   "outputs": [],
   "source": [
    "#Because I am not able to know the State and there are several options \n",
    "#I've decided to writte Unknown\n",
    "file['State'] = file['State'].fillna('Unknown')"
   ]
  },
  {
   "cell_type": "code",
   "execution_count": null,
   "id": "e786176c",
   "metadata": {},
   "outputs": [],
   "source": [
    "file['Vehicle Type'].unique()\n",
    "file['Vehicle Type'].value_counts()"
   ]
  },
  {
   "cell_type": "code",
   "execution_count": null,
   "id": "cfa2e4e0",
   "metadata": {},
   "outputs": [],
   "source": [
    "#Finally, I've decided to eliminate Vehicle Type because half of them are A\n",
    "#and the other half are NaN so it is irrelevant\n",
    "file = file.drop(['Vehicle Type'], axis=1)\n"
   ]
  },
  {
   "cell_type": "code",
   "execution_count": null,
   "id": "fdaa4a67",
   "metadata": {},
   "outputs": [],
   "source": [
    "file.isna().sum()"
   ]
  },
  {
   "cell_type": "code",
   "execution_count": null,
   "id": "c8d8838e",
   "metadata": {},
   "outputs": [],
   "source": [
    "#file['Effective To Date'] = pd.to_datetime(file['Effective To Date']\n",
    "#file['Month'] = file['Effective To Date'].dt.month\n",
    "#Last two lines do the same as the following function:\n",
    "def ExtractMonth(file):\n",
    "    file_dt = pd.to_datetime(file)\n",
    "    file_m = file_dt.dt.month\n",
    "    return file_m\n",
    "file['Month'] = ExtractMonth(file['Effective To Date'])"
   ]
  },
  {
   "cell_type": "code",
   "execution_count": null,
   "id": "38373a13",
   "metadata": {},
   "outputs": [],
   "source": [
    "file.head()"
   ]
  },
  {
   "cell_type": "code",
   "execution_count": null,
   "id": "21ba144e",
   "metadata": {},
   "outputs": [],
   "source": [
    "file['Month'].unique()\n",
    "file['Month'].value_counts()"
   ]
  },
  {
   "cell_type": "code",
   "execution_count": null,
   "id": "0fe18cdc",
   "metadata": {},
   "outputs": [],
   "source": [
    "#I will only filter the january and february data because march data do not exist\n",
    "#but, as we have seen before, I will obtain all the values because they are only 1 and 2\n",
    "file[(file['Month']==1) | (file['Month']==2) ]\n"
   ]
  },
  {
   "cell_type": "code",
   "execution_count": null,
   "id": "cdc24c6b",
   "metadata": {},
   "outputs": [],
   "source": [
    "#Lab | Customer Analysis Round 3"
   ]
  },
  {
   "cell_type": "code",
   "execution_count": null,
   "id": "c1eefe40",
   "metadata": {},
   "outputs": [],
   "source": [
    "file.shape"
   ]
  },
  {
   "cell_type": "code",
   "execution_count": null,
   "id": "59a6e2f4",
   "metadata": {},
   "outputs": [],
   "source": [
    "file.head()"
   ]
  },
  {
   "cell_type": "code",
   "execution_count": null,
   "id": "bd54e71d",
   "metadata": {
    "scrolled": false
   },
   "outputs": [],
   "source": [
    "file.dtypes"
   ]
  },
  {
   "cell_type": "code",
   "execution_count": null,
   "id": "44fb89cf",
   "metadata": {},
   "outputs": [],
   "source": [
    "#Looking at the information we have above, I can say we have a dataframe with 25 columns which contain different type\n",
    "#of data related with the clients of a cars insurance company \n",
    "#Customer: client code\n",
    "#State: client state\n",
    "#Customer Lifetime Value: the value that the client has for the company\n",
    "#Response: if the client has it or not\n",
    "#Coverage: type of coverage\n",
    "#Education: grade of education\n",
    "#Effective To Date: end date of the coverage\n",
    "#Employment Status: if the client is working\n",
    "#Gender: client gender\n",
    "#Income: amount of income\n",
    "#Location Code: code of the client location\n",
    "#Marital Status: marital status of the client\n",
    "#Monthly Premium Auto: premium payment amount\n",
    "#Months Since Last Claim: months without claiming\n",
    "#Months Since Policy Inception: months since the policy started\n",
    "#Number of Open Complaints: Complaints that have not been solved\n",
    "#Number of Policies: contracted policies\n",
    "#Policy Type: type of policy that the client has \n",
    "#Policy: policy tipe code\n",
    "#Renew Offer Type: offer offered to renew the policy\n",
    "#Sales Channel: how the policy was sold\n",
    "#Total Claim Amount: quantity of the claim required by the client\n",
    "#Vehicle Class: type of the vehicle\n",
    "#Vehicle Size: size of the vehicle\n",
    "#Month: month extracted from the column: Effective To Date"
   ]
  },
  {
   "cell_type": "code",
   "execution_count": null,
   "id": "e970d37d",
   "metadata": {},
   "outputs": [],
   "source": [
    "file['Response'].value_counts().plot(kind='bar', title='Response')\n",
    "plt.show()"
   ]
  },
  {
   "cell_type": "code",
   "execution_count": null,
   "id": "4b22498f",
   "metadata": {},
   "outputs": [],
   "source": [
    "plt.figure(figsize=(8,4))\n",
    "sns.countplot('Sales Channel', hue='Response', data=file)\n",
    "plt.ylabel('Response by Sales Channel')"
   ]
  },
  {
   "cell_type": "code",
   "execution_count": null,
   "id": "5410eaa4",
   "metadata": {},
   "outputs": [],
   "source": [
    "file_new = file\n",
    "file_new['Response_Rate'] = np.where(file_new.Response=='Yes',1,0)"
   ]
  },
  {
   "cell_type": "code",
   "execution_count": null,
   "id": "c852a9ce",
   "metadata": {},
   "outputs": [],
   "source": [
    "file_new.Response_Rate.value_counts()"
   ]
  },
  {
   "cell_type": "code",
   "execution_count": null,
   "id": "069a6346",
   "metadata": {
    "scrolled": true
   },
   "outputs": [],
   "source": [
    "file_new.groupby('Sales Channel')['Response_Rate'].mean().plot.bar()                                           \n",
    "plt.show"
   ]
  },
  {
   "cell_type": "code",
   "execution_count": null,
   "id": "a3052a5a",
   "metadata": {},
   "outputs": [],
   "source": [
    "print(file_new['Total Claim Amount'].max())    \n",
    "print(file_new['Total Claim Amount'].min())    \n",
    "print(file_new['Total Claim Amount'].mean())                                      "
   ]
  },
  {
   "cell_type": "code",
   "execution_count": null,
   "id": "abb87411",
   "metadata": {},
   "outputs": [],
   "source": [
    "def TotCA_div(x):\n",
    "    if x <= 450:\n",
    "        return 1\n",
    "    elif x <= 900:\n",
    "        return 2\n",
    "    elif x <= 1350:\n",
    "        return 3\n",
    "    elif x <= 1800:\n",
    "        return 4\n",
    "    else:\n",
    "        return 5\n",
    "\n",
    "file_new['Total Claim Amount_bins'] = list(map(TotCA_div, file_new['Total Claim Amount']))"
   ]
  },
  {
   "cell_type": "code",
   "execution_count": null,
   "id": "07a28cb5",
   "metadata": {},
   "outputs": [],
   "source": [
    "file_new.groupby('Total Claim Amount_bins')['Response_Rate'].mean().plot.bar()                                           \n",
    "index = np.arange(5)\n",
    "plt.xticks(index, (\"0-450\", \"451-900\", \"901-1350\", \"1351-1800\", \">1800\"))  \n",
    "plt.show"
   ]
  },
  {
   "cell_type": "code",
   "execution_count": null,
   "id": "940cc923",
   "metadata": {},
   "outputs": [],
   "source": [
    "print(file_new['Income'].max())    \n",
    "print(file_new['Income'].min())    \n",
    "print(file_new['Income'].mean())"
   ]
  },
  {
   "cell_type": "code",
   "execution_count": null,
   "id": "dfb4746c",
   "metadata": {},
   "outputs": [],
   "source": [
    "def TotIn_div(x):\n",
    "    if x <= 19000:\n",
    "        return 1\n",
    "    elif x <= 38000:\n",
    "        return 2\n",
    "    elif x <= 57000:\n",
    "        return 3\n",
    "    elif x <= 76000:\n",
    "        return 4\n",
    "    else:\n",
    "        return 5\n",
    "\n",
    "file_new['Income_bins'] = list(map(TotIn_div, file_new['Income']))"
   ]
  },
  {
   "cell_type": "code",
   "execution_count": null,
   "id": "4d27302d",
   "metadata": {},
   "outputs": [],
   "source": [
    "file_new.groupby('Income_bins')['Response_Rate'].mean().plot.bar()\n",
    "index = np.arange(5)\n",
    "plt.xticks(index, (\"0-19000\", \"19001-38000\", \"38001-57000\", \"57001-76000\", \">76000\"))  \n",
    "plt.show"
   ]
  },
  {
   "cell_type": "code",
   "execution_count": null,
   "id": "071b4b8f",
   "metadata": {},
   "outputs": [],
   "source": [
    "#Lab | Customer Analysis Round 4"
   ]
  },
  {
   "cell_type": "code",
   "execution_count": null,
   "id": "f3589cba",
   "metadata": {},
   "outputs": [],
   "source": [
    "numerical = file.select_dtypes('number')\n",
    "numerical.head()"
   ]
  },
  {
   "cell_type": "code",
   "execution_count": null,
   "id": "83d73e10",
   "metadata": {},
   "outputs": [],
   "source": [
    "categorical = file.select_dtypes('object')\n",
    "categorical.head()"
   ]
  },
  {
   "cell_type": "code",
   "execution_count": null,
   "id": "5eed3967",
   "metadata": {},
   "outputs": [],
   "source": [
    "sns.displot(file['Customer Lifetime Value'], bins=30)\n",
    "plt.show()"
   ]
  },
  {
   "cell_type": "code",
   "execution_count": null,
   "id": "18665416",
   "metadata": {},
   "outputs": [],
   "source": [
    "sns.displot(file['Income'], bins=30)\n",
    "plt.show()"
   ]
  },
  {
   "cell_type": "code",
   "execution_count": null,
   "id": "cf6dd53f",
   "metadata": {
    "scrolled": false
   },
   "outputs": [],
   "source": [
    "sns.displot(file['Monthly Premium Auto'], bins=30)\n",
    "plt.show()"
   ]
  },
  {
   "cell_type": "code",
   "execution_count": null,
   "id": "be1c5e83",
   "metadata": {},
   "outputs": [],
   "source": [
    "sns.displot(file['Months Since Last Claim'], bins=20)\n",
    "plt.show()"
   ]
  },
  {
   "cell_type": "code",
   "execution_count": null,
   "id": "1f54f09d",
   "metadata": {},
   "outputs": [],
   "source": [
    "sns.displot(file['Months Since Policy Inception'], bins=20)\n",
    "plt.show()"
   ]
  },
  {
   "cell_type": "code",
   "execution_count": null,
   "id": "f15ec733",
   "metadata": {},
   "outputs": [],
   "source": [
    "sns.displot(file['Number of Open Complaints'], bins=6)\n",
    "plt.show()"
   ]
  },
  {
   "cell_type": "code",
   "execution_count": null,
   "id": "63d286a4",
   "metadata": {},
   "outputs": [],
   "source": [
    "sns.displot(file['Number of Policies'], bins=9)\n",
    "plt.show()"
   ]
  },
  {
   "cell_type": "code",
   "execution_count": null,
   "id": "d370e285",
   "metadata": {},
   "outputs": [],
   "source": [
    "sns.displot(file['Total Claim Amount'], bins=50)\n",
    "plt.show()"
   ]
  },
  {
   "cell_type": "code",
   "execution_count": null,
   "id": "981c705d",
   "metadata": {},
   "outputs": [],
   "source": [
    "#Total Claim Amount could look like a normal distribution"
   ]
  },
  {
   "cell_type": "code",
   "execution_count": null,
   "id": "fcbf50d4",
   "metadata": {
    "scrolled": true
   },
   "outputs": [],
   "source": [
    "correlations_matrix = file.corr()\n",
    "sns.heatmap(correlations_matrix, annot=True)\n",
    "plt.show()"
   ]
  },
  {
   "cell_type": "code",
   "execution_count": null,
   "id": "f0390a95",
   "metadata": {},
   "outputs": [],
   "source": [
    "#I will drop no features because there is no pair of \n",
    "#features that have a high correlation "
   ]
  },
  {
   "cell_type": "code",
   "execution_count": null,
   "id": "34ed8898",
   "metadata": {},
   "outputs": [],
   "source": [
    "#Lab | Customer Analysis Round 5"
   ]
  },
  {
   "cell_type": "code",
   "execution_count": null,
   "id": "5bbe27fc",
   "metadata": {},
   "outputs": [],
   "source": [
    "#Target variable: total_claim_amount"
   ]
  },
  {
   "cell_type": "code",
   "execution_count": null,
   "id": "c1bbb492",
   "metadata": {},
   "outputs": [],
   "source": [
    "display(file.head())\n",
    "file.shape"
   ]
  },
  {
   "cell_type": "code",
   "execution_count": null,
   "id": "05b9d5ec",
   "metadata": {},
   "outputs": [],
   "source": [
    "from sklearn.preprocessing import MinMaxScaler\n",
    "from sklearn.preprocessing import StandardScaler\n",
    "\n",
    "y = file['Total Claim Amount']\n",
    "X = file.drop(['Total Claim Amount'], axis=1)\n",
    "X_num = X.select_dtypes(include = np.number)\n",
    "X_cat = X.select_dtypes(include = object)"
   ]
  },
  {
   "cell_type": "code",
   "execution_count": null,
   "id": "705b2e40",
   "metadata": {},
   "outputs": [],
   "source": [
    "X_num"
   ]
  },
  {
   "cell_type": "code",
   "execution_count": null,
   "id": "200dd075",
   "metadata": {},
   "outputs": [],
   "source": [
    "#MinMaxScaler\n",
    "transformer = MinMaxScaler().fit(X_num)\n",
    "x_normalized = transformer.transform(X_num)\n",
    "print(x_normalized.shape)\n",
    "x_normalized\n",
    "fileMinMax = pd.DataFrame(x_normalized, columns=X_num.columns)\n",
    "fileMinMax.head()"
   ]
  },
  {
   "cell_type": "code",
   "execution_count": null,
   "id": "7c528b71",
   "metadata": {},
   "outputs": [],
   "source": [
    "#StandardScaler\n",
    "transformer = StandardScaler().fit(X_num)\n",
    "x_standardized = transformer.transform(X_num)\n",
    "print(x_standardized.shape)\n",
    "fileStSc = pd.DataFrame(x_standardized, columns=X_num.columns)\n",
    "fileStSc.head()"
   ]
  },
  {
   "cell_type": "code",
   "execution_count": null,
   "id": "0fbdfd7c",
   "metadata": {},
   "outputs": [],
   "source": [
    "sns.displot(fileMinMax['Customer Lifetime Value'], bins=50)\n",
    "print(plt.show())\n",
    "sns.displot(fileStSc['Customer Lifetime Value'], bins=50)\n",
    "plt.show()"
   ]
  },
  {
   "cell_type": "code",
   "execution_count": null,
   "id": "6b594050",
   "metadata": {},
   "outputs": [],
   "source": [
    "sns.displot(fileMinMax['Income'], bins=50)\n",
    "print(plt.show())\n",
    "sns.displot(fileStSc['Income'], bins=50)\n",
    "plt.show()"
   ]
  },
  {
   "cell_type": "code",
   "execution_count": null,
   "id": "5eba5711",
   "metadata": {},
   "outputs": [],
   "source": [
    "sns.displot(fileMinMax['Monthly Premium Auto'], bins=50)\n",
    "print(plt.show())\n",
    "sns.displot(fileStSc['Monthly Premium Auto'], bins=50)\n",
    "plt.show()"
   ]
  },
  {
   "cell_type": "code",
   "execution_count": null,
   "id": "e4dc4253",
   "metadata": {},
   "outputs": [],
   "source": [
    "sns.displot(fileMinMax['Months Since Last Claim'], bins=50)\n",
    "print(plt.show())\n",
    "sns.displot(fileStSc['Months Since Last Claim'], bins=50)\n",
    "plt.show()"
   ]
  },
  {
   "cell_type": "code",
   "execution_count": null,
   "id": "1f58c61b",
   "metadata": {},
   "outputs": [],
   "source": [
    "sns.displot(fileMinMax['Months Since Policy Inception'], bins=50)\n",
    "print(plt.show())\n",
    "sns.displot(fileStSc['Months Since Policy Inception'], bins=50)\n",
    "plt.show()"
   ]
  },
  {
   "cell_type": "code",
   "execution_count": null,
   "id": "9ad70199",
   "metadata": {},
   "outputs": [],
   "source": [
    "sns.displot(fileMinMax['Number of Open Complaints'], bins=20)\n",
    "print(plt.show())\n",
    "sns.displot(fileStSc['Number of Open Complaints'], bins=20)\n",
    "plt.show()"
   ]
  },
  {
   "cell_type": "code",
   "execution_count": null,
   "id": "2933c78e",
   "metadata": {},
   "outputs": [],
   "source": [
    "sns.displot(fileMinMax['Number of Policies'], bins=20)\n",
    "print(plt.show())\n",
    "sns.displot(fileStSc['Number of Policies'], bins=20)\n",
    "plt.show()"
   ]
  },
  {
   "cell_type": "code",
   "execution_count": null,
   "id": "b86da83c",
   "metadata": {},
   "outputs": [],
   "source": [
    "#As we can observe in the graphics, the difference between both scalers is almost inexistent"
   ]
  },
  {
   "cell_type": "code",
   "execution_count": null,
   "id": "cdc41906",
   "metadata": {},
   "outputs": [],
   "source": [
    "#Lab | Customer Analysis Round 6"
   ]
  },
  {
   "cell_type": "code",
   "execution_count": 3,
   "id": "c89849af",
   "metadata": {},
   "outputs": [],
   "source": [
    "y = file['Total Claim Amount']\n",
    "X = file.drop(['Total Claim Amount'], axis=1)\n",
    "X_num = X.select_dtypes(include = np.number)\n",
    "X_cat = X.select_dtypes(include = object)"
   ]
  },
  {
   "cell_type": "code",
   "execution_count": 4,
   "id": "2c69e630",
   "metadata": {},
   "outputs": [],
   "source": [
    "#Faster way to do it"
   ]
  },
  {
   "cell_type": "code",
   "execution_count": 5,
   "id": "085f6fd5",
   "metadata": {},
   "outputs": [
    {
     "data": {
      "text/plain": [
       "(9134, 9241)"
      ]
     },
     "execution_count": 5,
     "metadata": {},
     "output_type": "execute_result"
    }
   ],
   "source": [
    "#Searching on google, I found the next way to simplificate One Hot encoding with the command pd.get_dummies: \n",
    "#https://datascience.stackexchange.com/questions/71804/how-to-perform-one-hot-encoding-on-multiple-categorical-columns\n",
    "flags_ohe = X\n",
    "categorical_columns = file[X_cat.columns]\n",
    "\n",
    "for col in categorical_columns:\n",
    "    col_ohe = pd.get_dummies(file[col], prefix=col, drop_first=True) #drop_first=True -> to eliminate the first column (to avoid collinearity)\n",
    "    flags_ohe = pd.concat((flags_ohe, col_ohe), axis=1).drop(col, axis=1)\n",
    "\n",
    "flags_ohe.shape #flags_ohe would be the dataframe will all the numeric data and the categoric data encoded concatenated"
   ]
  },
  {
   "cell_type": "code",
   "execution_count": 6,
   "id": "d644d03b",
   "metadata": {},
   "outputs": [],
   "source": [
    "#Below, I'm goig to do it like we have seen in class!"
   ]
  },
  {
   "cell_type": "code",
   "execution_count": 7,
   "id": "d44931b3",
   "metadata": {},
   "outputs": [
    {
     "name": "stdout",
     "output_type": "stream",
     "text": [
      "(9134, 7)\n"
     ]
    }
   ],
   "source": [
    "from sklearn.preprocessing import MinMaxScaler\n",
    "MinMaxtransformer = MinMaxScaler().fit(X_num)\n",
    "x_normalized = MinMaxtransformer.transform(X_num)\n",
    "print(x_normalized.shape)\n",
    "x_normalized = pd.DataFrame(x_normalized,columns=X_num.columns)"
   ]
  },
  {
   "cell_type": "code",
   "execution_count": 8,
   "id": "c633e94f",
   "metadata": {},
   "outputs": [],
   "source": [
    "X_cat2 = X_cat[['Customer']]"
   ]
  },
  {
   "cell_type": "code",
   "execution_count": 9,
   "id": "da6eb0a9",
   "metadata": {},
   "outputs": [
    {
     "name": "stdout",
     "output_type": "stream",
     "text": [
      "[array(['AA10041', 'AA11235', 'AA16582', ..., 'ZZ89380', 'ZZ91716',\n",
      "       'ZZ97035'], dtype=object)]\n",
      "[[0. 0. 0. ... 0. 0. 0.]\n",
      " [0. 0. 0. ... 0. 0. 0.]\n",
      " [0. 0. 0. ... 0. 0. 0.]\n",
      " ...\n",
      " [0. 0. 0. ... 0. 0. 0.]\n",
      " [0. 0. 0. ... 0. 0. 0.]\n",
      " [0. 0. 0. ... 0. 0. 0.]]\n"
     ]
    }
   ],
   "source": [
    "#I'm going to use one hot encoding \n",
    "from sklearn.preprocessing import OneHotEncoder\n",
    "encoder = OneHotEncoder().fit(X_cat2)\n",
    "print(encoder.categories_)\n",
    "encoded = encoder.transform(X_cat2).toarray()\n",
    "print(encoded)\n",
    "onehot_encoded = pd.DataFrame(encoded,columns=encoder.categories_)"
   ]
  },
  {
   "cell_type": "code",
   "execution_count": 10,
   "id": "f9e58bac",
   "metadata": {},
   "outputs": [],
   "source": [
    "onehot_encoded = onehot_encoded.drop(onehot_encoded['AA10041'],axis=1)\n",
    "X_new = pd.concat([x_normalized, onehot_encoded], axis=1)"
   ]
  },
  {
   "cell_type": "code",
   "execution_count": 11,
   "id": "4bc7ca11",
   "metadata": {},
   "outputs": [
    {
     "name": "stdout",
     "output_type": "stream",
     "text": [
      "[array(['Arizona', 'California', 'Nevada', 'Oregon', 'Washington'],\n",
      "      dtype=object)]\n",
      "[[0. 0. 0. 0. 1.]\n",
      " [1. 0. 0. 0. 0.]\n",
      " [0. 0. 1. 0. 0.]\n",
      " ...\n",
      " [0. 1. 0. 0. 0.]\n",
      " [0. 1. 0. 0. 0.]\n",
      " [0. 1. 0. 0. 0.]]\n"
     ]
    }
   ],
   "source": [
    "X_cat2 = X_cat[['State']]\n",
    "encoder = OneHotEncoder().fit(X_cat2)\n",
    "print(encoder.categories_)\n",
    "encoded = encoder.transform(X_cat2).toarray()\n",
    "print(encoded)\n",
    "onehot_encoded = pd.DataFrame(encoded,columns=encoder.categories_)"
   ]
  },
  {
   "cell_type": "code",
   "execution_count": 12,
   "id": "3bcdb617",
   "metadata": {},
   "outputs": [],
   "source": [
    "onehot_encoded = onehot_encoded.drop(onehot_encoded['Arizona'],axis=1)\n",
    "X_new = pd.concat([X_new, onehot_encoded], axis=1)"
   ]
  },
  {
   "cell_type": "code",
   "execution_count": 13,
   "id": "c7fc5919",
   "metadata": {},
   "outputs": [
    {
     "name": "stdout",
     "output_type": "stream",
     "text": [
      "[array(['No', 'Yes'], dtype=object)]\n",
      "[[1. 0.]\n",
      " [1. 0.]\n",
      " [1. 0.]\n",
      " ...\n",
      " [1. 0.]\n",
      " [1. 0.]\n",
      " [1. 0.]]\n"
     ]
    }
   ],
   "source": [
    "X_cat2 = X_cat[['Response']]\n",
    "encoder = OneHotEncoder().fit(X_cat2)\n",
    "print(encoder.categories_)\n",
    "encoded = encoder.transform(X_cat2).toarray()\n",
    "print(encoded)\n",
    "onehot_encoded = pd.DataFrame(encoded,columns=encoder.categories_)"
   ]
  },
  {
   "cell_type": "code",
   "execution_count": 14,
   "id": "fe5ce9f1",
   "metadata": {},
   "outputs": [],
   "source": [
    "onehot_encoded = onehot_encoded.drop(onehot_encoded['No'],axis=1)\n",
    "X_new = pd.concat([X_new, onehot_encoded], axis=1)"
   ]
  },
  {
   "cell_type": "code",
   "execution_count": 15,
   "id": "106e3c71",
   "metadata": {},
   "outputs": [
    {
     "name": "stdout",
     "output_type": "stream",
     "text": [
      "[array(['Basic', 'Extended', 'Premium'], dtype=object)]\n",
      "[[1. 0. 0.]\n",
      " [0. 1. 0.]\n",
      " [0. 0. 1.]\n",
      " ...\n",
      " [0. 1. 0.]\n",
      " [0. 1. 0.]\n",
      " [0. 1. 0.]]\n"
     ]
    }
   ],
   "source": [
    "X_cat2 = X_cat[['Coverage']]\n",
    "encoder = OneHotEncoder().fit(X_cat2)\n",
    "print(encoder.categories_)\n",
    "encoded = encoder.transform(X_cat2).toarray()\n",
    "print(encoded)\n",
    "onehot_encoded = pd.DataFrame(encoded,columns=encoder.categories_)"
   ]
  },
  {
   "cell_type": "code",
   "execution_count": 16,
   "id": "46c56ee5",
   "metadata": {},
   "outputs": [],
   "source": [
    "onehot_encoded = onehot_encoded.drop(onehot_encoded['Basic'],axis=1)\n",
    "X_new = pd.concat([X_new, onehot_encoded], axis=1)"
   ]
  },
  {
   "cell_type": "code",
   "execution_count": 17,
   "id": "c469becd",
   "metadata": {},
   "outputs": [
    {
     "name": "stdout",
     "output_type": "stream",
     "text": [
      "[array(['Bachelor', 'College', 'Doctor', 'High School or Below', 'Master'],\n",
      "      dtype=object)]\n",
      "[[1. 0. 0. 0. 0.]\n",
      " [1. 0. 0. 0. 0.]\n",
      " [1. 0. 0. 0. 0.]\n",
      " ...\n",
      " [1. 0. 0. 0. 0.]\n",
      " [0. 1. 0. 0. 0.]\n",
      " [0. 1. 0. 0. 0.]]\n"
     ]
    }
   ],
   "source": [
    "X_cat2 = X_cat[['Education']]\n",
    "encoder = OneHotEncoder().fit(X_cat2)\n",
    "print(encoder.categories_)\n",
    "encoded = encoder.transform(X_cat2).toarray()\n",
    "print(encoded)\n",
    "onehot_encoded = pd.DataFrame(encoded,columns=encoder.categories_)"
   ]
  },
  {
   "cell_type": "code",
   "execution_count": 18,
   "id": "335f09e0",
   "metadata": {},
   "outputs": [],
   "source": [
    "onehot_encoded = onehot_encoded.drop(onehot_encoded['Bachelor'],axis=1)\n",
    "X_new = pd.concat([X_new, onehot_encoded], axis=1)"
   ]
  },
  {
   "cell_type": "code",
   "execution_count": 19,
   "id": "d11a39f7",
   "metadata": {},
   "outputs": [
    {
     "name": "stdout",
     "output_type": "stream",
     "text": [
      "[array(['1/1/11', '1/10/11', '1/11/11', '1/12/11', '1/13/11', '1/14/11',\n",
      "       '1/15/11', '1/16/11', '1/17/11', '1/18/11', '1/19/11', '1/2/11',\n",
      "       '1/20/11', '1/21/11', '1/22/11', '1/23/11', '1/24/11', '1/25/11',\n",
      "       '1/26/11', '1/27/11', '1/28/11', '1/29/11', '1/3/11', '1/30/11',\n",
      "       '1/31/11', '1/4/11', '1/5/11', '1/6/11', '1/7/11', '1/8/11',\n",
      "       '1/9/11', '2/1/11', '2/10/11', '2/11/11', '2/12/11', '2/13/11',\n",
      "       '2/14/11', '2/15/11', '2/16/11', '2/17/11', '2/18/11', '2/19/11',\n",
      "       '2/2/11', '2/20/11', '2/21/11', '2/22/11', '2/23/11', '2/24/11',\n",
      "       '2/25/11', '2/26/11', '2/27/11', '2/28/11', '2/3/11', '2/4/11',\n",
      "       '2/5/11', '2/6/11', '2/7/11', '2/8/11', '2/9/11'], dtype=object)]\n",
      "[[0. 0. 0. ... 0. 0. 0.]\n",
      " [0. 0. 0. ... 0. 0. 0.]\n",
      " [0. 0. 0. ... 0. 0. 0.]\n",
      " ...\n",
      " [0. 0. 0. ... 0. 0. 0.]\n",
      " [0. 0. 0. ... 0. 0. 0.]\n",
      " [0. 0. 0. ... 0. 0. 0.]]\n"
     ]
    }
   ],
   "source": [
    "X_cat2 = X_cat[['Effective To Date']]\n",
    "encoder = OneHotEncoder().fit(X_cat2)\n",
    "print(encoder.categories_)\n",
    "encoded = encoder.transform(X_cat2).toarray()\n",
    "print(encoded)\n",
    "onehot_encoded = pd.DataFrame(encoded,columns=encoder.categories_)"
   ]
  },
  {
   "cell_type": "code",
   "execution_count": 20,
   "id": "d1ecf644",
   "metadata": {},
   "outputs": [],
   "source": [
    "onehot_encoded = onehot_encoded.drop(onehot_encoded['1/1/11'],axis=1)\n",
    "X_new = pd.concat([X_new, onehot_encoded], axis=1)"
   ]
  },
  {
   "cell_type": "code",
   "execution_count": 21,
   "id": "94f6baff",
   "metadata": {},
   "outputs": [
    {
     "name": "stdout",
     "output_type": "stream",
     "text": [
      "[array(['Disabled', 'Employed', 'Medical Leave', 'Retired', 'Unemployed'],\n",
      "      dtype=object)]\n",
      "[[0. 1. 0. 0. 0.]\n",
      " [0. 0. 0. 0. 1.]\n",
      " [0. 1. 0. 0. 0.]\n",
      " ...\n",
      " [0. 0. 0. 0. 1.]\n",
      " [0. 1. 0. 0. 0.]\n",
      " [0. 0. 0. 0. 1.]]\n"
     ]
    }
   ],
   "source": [
    "X_cat2 = X_cat[['EmploymentStatus']]\n",
    "encoder = OneHotEncoder().fit(X_cat2)\n",
    "print(encoder.categories_)\n",
    "encoded = encoder.transform(X_cat2).toarray()\n",
    "print(encoded)\n",
    "onehot_encoded = pd.DataFrame(encoded,columns=encoder.categories_)"
   ]
  },
  {
   "cell_type": "code",
   "execution_count": 22,
   "id": "423db8b2",
   "metadata": {},
   "outputs": [],
   "source": [
    "onehot_encoded = onehot_encoded.drop(onehot_encoded['Disabled'],axis=1)\n",
    "X_new = pd.concat([X_new, onehot_encoded], axis=1)"
   ]
  },
  {
   "cell_type": "code",
   "execution_count": 23,
   "id": "1e07363c",
   "metadata": {},
   "outputs": [
    {
     "name": "stdout",
     "output_type": "stream",
     "text": [
      "[array(['F', 'M'], dtype=object)]\n",
      "[[1. 0.]\n",
      " [1. 0.]\n",
      " [1. 0.]\n",
      " ...\n",
      " [0. 1.]\n",
      " [0. 1.]\n",
      " [0. 1.]]\n"
     ]
    }
   ],
   "source": [
    "X_cat2 = X_cat[['Gender']]\n",
    "encoder = OneHotEncoder().fit(X_cat2)\n",
    "print(encoder.categories_)\n",
    "encoded = encoder.transform(X_cat2).toarray()\n",
    "print(encoded)\n",
    "onehot_encoded = pd.DataFrame(encoded,columns=encoder.categories_)"
   ]
  },
  {
   "cell_type": "code",
   "execution_count": 24,
   "id": "7e94a6c6",
   "metadata": {},
   "outputs": [],
   "source": [
    "onehot_encoded = onehot_encoded.drop(onehot_encoded['F'],axis=1)\n",
    "X_new = pd.concat([X_new, onehot_encoded], axis=1)"
   ]
  },
  {
   "cell_type": "code",
   "execution_count": 25,
   "id": "687a3634",
   "metadata": {},
   "outputs": [
    {
     "name": "stdout",
     "output_type": "stream",
     "text": [
      "[array(['Rural', 'Suburban', 'Urban'], dtype=object)]\n",
      "[[0. 1. 0.]\n",
      " [0. 1. 0.]\n",
      " [0. 1. 0.]\n",
      " ...\n",
      " [0. 1. 0.]\n",
      " [0. 1. 0.]\n",
      " [0. 1. 0.]]\n"
     ]
    }
   ],
   "source": [
    "X_cat2 = X_cat[['Location Code']]\n",
    "encoder = OneHotEncoder().fit(X_cat2)\n",
    "print(encoder.categories_)\n",
    "encoded = encoder.transform(X_cat2).toarray()\n",
    "print(encoded)\n",
    "onehot_encoded = pd.DataFrame(encoded,columns=encoder.categories_)"
   ]
  },
  {
   "cell_type": "code",
   "execution_count": 26,
   "id": "92c38610",
   "metadata": {},
   "outputs": [],
   "source": [
    "onehot_encoded = onehot_encoded.drop(onehot_encoded['Rural'],axis=1)\n",
    "X_new = pd.concat([X_new, onehot_encoded], axis=1)"
   ]
  },
  {
   "cell_type": "code",
   "execution_count": 27,
   "id": "a8d5e94a",
   "metadata": {},
   "outputs": [
    {
     "name": "stdout",
     "output_type": "stream",
     "text": [
      "[array(['Divorced', 'Married', 'Single'], dtype=object)]\n",
      "[[0. 1. 0.]\n",
      " [0. 0. 1.]\n",
      " [0. 1. 0.]\n",
      " ...\n",
      " [0. 0. 1.]\n",
      " [0. 1. 0.]\n",
      " [0. 0. 1.]]\n"
     ]
    }
   ],
   "source": [
    "X_cat2 = X_cat[['Marital Status']]\n",
    "encoder = OneHotEncoder().fit(X_cat2)\n",
    "print(encoder.categories_)\n",
    "encoded = encoder.transform(X_cat2).toarray()\n",
    "print(encoded)\n",
    "onehot_encoded = pd.DataFrame(encoded,columns=encoder.categories_)"
   ]
  },
  {
   "cell_type": "code",
   "execution_count": 28,
   "id": "3227c804",
   "metadata": {},
   "outputs": [],
   "source": [
    "onehot_encoded = onehot_encoded.drop(onehot_encoded['Divorced'],axis=1)\n",
    "X_new = pd.concat([X_new, onehot_encoded], axis=1)"
   ]
  },
  {
   "cell_type": "code",
   "execution_count": 29,
   "id": "f0f89336",
   "metadata": {},
   "outputs": [
    {
     "name": "stdout",
     "output_type": "stream",
     "text": [
      "[array(['Corporate Auto', 'Personal Auto', 'Special Auto'], dtype=object)]\n",
      "[[1. 0. 0.]\n",
      " [0. 1. 0.]\n",
      " [0. 1. 0.]\n",
      " ...\n",
      " [1. 0. 0.]\n",
      " [0. 1. 0.]\n",
      " [1. 0. 0.]]\n"
     ]
    }
   ],
   "source": [
    "X_cat2 = X_cat[['Policy Type']]\n",
    "encoder = OneHotEncoder().fit(X_cat2)\n",
    "print(encoder.categories_)\n",
    "encoded = encoder.transform(X_cat2).toarray()\n",
    "print(encoded)\n",
    "onehot_encoded = pd.DataFrame(encoded,columns=encoder.categories_)"
   ]
  },
  {
   "cell_type": "code",
   "execution_count": 30,
   "id": "e40e1a2e",
   "metadata": {},
   "outputs": [],
   "source": [
    "onehot_encoded = onehot_encoded.drop(onehot_encoded['Corporate Auto'],axis=1)\n",
    "X_new = pd.concat([X_new, onehot_encoded], axis=1)"
   ]
  },
  {
   "cell_type": "code",
   "execution_count": 31,
   "id": "55ad6fc7",
   "metadata": {},
   "outputs": [
    {
     "name": "stdout",
     "output_type": "stream",
     "text": [
      "[array(['Corporate L1', 'Corporate L2', 'Corporate L3', 'Personal L1',\n",
      "       'Personal L2', 'Personal L3', 'Special L1', 'Special L2',\n",
      "       'Special L3'], dtype=object)]\n",
      "[[0. 0. 1. ... 0. 0. 0.]\n",
      " [0. 0. 0. ... 0. 0. 0.]\n",
      " [0. 0. 0. ... 0. 0. 0.]\n",
      " ...\n",
      " [0. 1. 0. ... 0. 0. 0.]\n",
      " [0. 0. 0. ... 0. 0. 0.]\n",
      " [0. 0. 1. ... 0. 0. 0.]]\n"
     ]
    }
   ],
   "source": [
    "X_cat2 = X_cat[['Policy']]\n",
    "encoder = OneHotEncoder().fit(X_cat2)\n",
    "print(encoder.categories_)\n",
    "encoded = encoder.transform(X_cat2).toarray()\n",
    "print(encoded)\n",
    "onehot_encoded = pd.DataFrame(encoded,columns=encoder.categories_)"
   ]
  },
  {
   "cell_type": "code",
   "execution_count": 32,
   "id": "5efae829",
   "metadata": {},
   "outputs": [],
   "source": [
    "onehot_encoded = onehot_encoded.drop(onehot_encoded['Corporate L1'],axis=1)\n",
    "X_new = pd.concat([X_new, onehot_encoded], axis=1)"
   ]
  },
  {
   "cell_type": "code",
   "execution_count": 33,
   "id": "9f4a2f74",
   "metadata": {},
   "outputs": [
    {
     "name": "stdout",
     "output_type": "stream",
     "text": [
      "[array(['Offer1', 'Offer2', 'Offer3', 'Offer4'], dtype=object)]\n",
      "[[1. 0. 0. 0.]\n",
      " [0. 0. 1. 0.]\n",
      " [1. 0. 0. 0.]\n",
      " ...\n",
      " [1. 0. 0. 0.]\n",
      " [0. 0. 1. 0.]\n",
      " [0. 0. 0. 1.]]\n"
     ]
    }
   ],
   "source": [
    "X_cat2 = X_cat[['Renew Offer Type']]\n",
    "encoder = OneHotEncoder().fit(X_cat2)\n",
    "print(encoder.categories_)\n",
    "encoded = encoder.transform(X_cat2).toarray()\n",
    "print(encoded)\n",
    "onehot_encoded = pd.DataFrame(encoded,columns=encoder.categories_)"
   ]
  },
  {
   "cell_type": "code",
   "execution_count": 34,
   "id": "d25f51ac",
   "metadata": {},
   "outputs": [],
   "source": [
    "onehot_encoded = onehot_encoded.drop(onehot_encoded['Offer1'],axis=1)\n",
    "X_new = pd.concat([X_new, onehot_encoded], axis=1)"
   ]
  },
  {
   "cell_type": "code",
   "execution_count": 35,
   "id": "ee37f8d3",
   "metadata": {},
   "outputs": [
    {
     "name": "stdout",
     "output_type": "stream",
     "text": [
      "[array(['Agent', 'Branch', 'Call Center', 'Web'], dtype=object)]\n",
      "[[1. 0. 0. 0.]\n",
      " [1. 0. 0. 0.]\n",
      " [1. 0. 0. 0.]\n",
      " ...\n",
      " [0. 1. 0. 0.]\n",
      " [0. 1. 0. 0.]\n",
      " [0. 0. 1. 0.]]\n"
     ]
    }
   ],
   "source": [
    "X_cat2 = X_cat[['Sales Channel']]\n",
    "encoder = OneHotEncoder().fit(X_cat2)\n",
    "print(encoder.categories_)\n",
    "encoded = encoder.transform(X_cat2).toarray()\n",
    "print(encoded)\n",
    "onehot_encoded = pd.DataFrame(encoded,columns=encoder.categories_)"
   ]
  },
  {
   "cell_type": "code",
   "execution_count": 36,
   "id": "1e1a7913",
   "metadata": {},
   "outputs": [],
   "source": [
    "onehot_encoded = onehot_encoded.drop(onehot_encoded['Agent'],axis=1)\n",
    "X_new = pd.concat([X_new, onehot_encoded], axis=1)"
   ]
  },
  {
   "cell_type": "code",
   "execution_count": 37,
   "id": "e4bfd7ef",
   "metadata": {},
   "outputs": [
    {
     "name": "stdout",
     "output_type": "stream",
     "text": [
      "[array(['Four-Door Car', 'Luxury Car', 'Luxury SUV', 'SUV', 'Sports Car',\n",
      "       'Two-Door Car'], dtype=object)]\n",
      "[[0. 0. 0. 0. 0. 1.]\n",
      " [1. 0. 0. 0. 0. 0.]\n",
      " [0. 0. 0. 0. 0. 1.]\n",
      " ...\n",
      " [1. 0. 0. 0. 0. 0.]\n",
      " [1. 0. 0. 0. 0. 0.]\n",
      " [0. 0. 0. 0. 0. 1.]]\n"
     ]
    }
   ],
   "source": [
    "X_cat2 = X_cat[['Vehicle Class']]\n",
    "encoder = OneHotEncoder().fit(X_cat2)\n",
    "print(encoder.categories_)\n",
    "encoded = encoder.transform(X_cat2).toarray()\n",
    "print(encoded)\n",
    "onehot_encoded = pd.DataFrame(encoded,columns=encoder.categories_)"
   ]
  },
  {
   "cell_type": "code",
   "execution_count": 38,
   "id": "ce5771b4",
   "metadata": {},
   "outputs": [],
   "source": [
    "onehot_encoded = onehot_encoded.drop(onehot_encoded['Four-Door Car'],axis=1)\n",
    "X_new = pd.concat([X_new, onehot_encoded], axis=1)"
   ]
  },
  {
   "cell_type": "code",
   "execution_count": 39,
   "id": "2f97dd65",
   "metadata": {},
   "outputs": [
    {
     "name": "stdout",
     "output_type": "stream",
     "text": [
      "[array(['Large', 'Medsize', 'Small'], dtype=object)]\n",
      "[[0. 1. 0.]\n",
      " [0. 1. 0.]\n",
      " [0. 1. 0.]\n",
      " ...\n",
      " [0. 1. 0.]\n",
      " [1. 0. 0.]\n",
      " [0. 1. 0.]]\n"
     ]
    }
   ],
   "source": [
    "X_cat2 = X_cat[['Vehicle Size']]\n",
    "encoder = OneHotEncoder().fit(X_cat2)\n",
    "print(encoder.categories_)\n",
    "encoded = encoder.transform(X_cat2).toarray()\n",
    "print(encoded)\n",
    "onehot_encoded = pd.DataFrame(encoded,columns=encoder.categories_)"
   ]
  },
  {
   "cell_type": "code",
   "execution_count": 40,
   "id": "b80303c2",
   "metadata": {},
   "outputs": [],
   "source": [
    "onehot_encoded = onehot_encoded.drop(onehot_encoded['Large'],axis=1)\n",
    "X_new = pd.concat([X_new, onehot_encoded], axis=1)"
   ]
  },
  {
   "cell_type": "code",
   "execution_count": 41,
   "id": "54de4f3d",
   "metadata": {},
   "outputs": [
    {
     "data": {
      "text/plain": [
       "(9134, 9241)"
      ]
     },
     "execution_count": 41,
     "metadata": {},
     "output_type": "execute_result"
    }
   ],
   "source": [
    "X_new.shape"
   ]
  },
  {
   "cell_type": "code",
   "execution_count": 42,
   "id": "90ce84bd",
   "metadata": {},
   "outputs": [],
   "source": [
    "#Train-test split\n",
    "from sklearn.model_selection import train_test_split\n",
    "X_train, X_test, y_train, y_test = train_test_split(X_new, y, test_size=0.2, random_state=42)\n"
   ]
  },
  {
   "cell_type": "code",
   "execution_count": 43,
   "id": "e40bb9d8",
   "metadata": {},
   "outputs": [
    {
     "data": {
      "text/plain": [
       "(7307, 9241)"
      ]
     },
     "metadata": {},
     "output_type": "display_data"
    },
    {
     "data": {
      "text/plain": [
       "(1827, 9241)"
      ]
     },
     "metadata": {},
     "output_type": "display_data"
    },
    {
     "data": {
      "text/plain": [
       "(7307,)"
      ]
     },
     "metadata": {},
     "output_type": "display_data"
    },
    {
     "data": {
      "text/plain": [
       "(1827,)"
      ]
     },
     "execution_count": 43,
     "metadata": {},
     "output_type": "execute_result"
    }
   ],
   "source": [
    "display(X_train.shape)\n",
    "display(X_test.shape)\n",
    "display(y_train.shape)\n",
    "y_test.shape"
   ]
  },
  {
   "cell_type": "code",
   "execution_count": 44,
   "id": "b746e50d",
   "metadata": {},
   "outputs": [
    {
     "data": {
      "text/plain": [
       "LinearRegression()"
      ]
     },
     "execution_count": 44,
     "metadata": {},
     "output_type": "execute_result"
    }
   ],
   "source": [
    "#linear regression\n",
    "from sklearn import linear_model\n",
    "lm = linear_model.LinearRegression()\n",
    "lm.fit(X_train,y_train)"
   ]
  },
  {
   "cell_type": "code",
   "execution_count": 47,
   "id": "c22f06d5",
   "metadata": {},
   "outputs": [
    {
     "name": "stdout",
     "output_type": "stream",
     "text": [
      "R2 for train: 1.0\n",
      "R2 for score: 0.7215960731645319\n",
      "MSE: 148.7823443044834\n",
      "RMSE: 12.197636832783774\n",
      "MAE: 103.96029464044186\n"
     ]
    }
   ],
   "source": [
    "#Now I'll calculate R2 score, MSE, RMSE and MAE\n",
    "from sklearn.metrics import r2_score, mean_squared_error, mean_absolute_error\n",
    "import math\n",
    "predictions = lm.predict(X_train)\n",
    "r2t = r2_score(y_train, predictions)\n",
    "print(\"R2 for train:\", r2t)\n",
    "predictions = lm.predict(X_test)\n",
    "r2s = r2_score(y_test, predictions)\n",
    "print(\"R2 for score:\", r2s)\n",
    "mse = np.sqrt(mean_squared_error(y_test,predictions))\n",
    "print(\"MSE:\", mse)\n",
    "rmse = math.sqrt(mse)\n",
    "print(\"RMSE:\", rmse)\n",
    "mae = mean_absolute_error(y_test, predictions)\n",
    "print(\"MAE:\", mae)"
   ]
  },
  {
   "cell_type": "code",
   "execution_count": 48,
   "id": "f28d3e37",
   "metadata": {},
   "outputs": [],
   "source": [
    "#Lab | Customer Analysis Round 7"
   ]
  },
  {
   "cell_type": "code",
   "execution_count": 49,
   "id": "7b23b8e9",
   "metadata": {},
   "outputs": [],
   "source": [
    "#The first method I've tryed to improve the linear regression model consist on changing the test_size value,\n",
    "#I've got the best results with test_size=0.5"
   ]
  },
  {
   "cell_type": "code",
   "execution_count": 50,
   "id": "33a25110",
   "metadata": {},
   "outputs": [
    {
     "data": {
      "text/plain": [
       "LinearRegression()"
      ]
     },
     "execution_count": 50,
     "metadata": {},
     "output_type": "execute_result"
    }
   ],
   "source": [
    "X_train, X_test, y_train, y_test = train_test_split(X_new, y, test_size=0.5, random_state=42)\n",
    "lm = linear_model.LinearRegression()\n",
    "lm.fit(X_train,y_train)"
   ]
  },
  {
   "cell_type": "code",
   "execution_count": 51,
   "id": "8fd5b5a0",
   "metadata": {},
   "outputs": [
    {
     "name": "stdout",
     "output_type": "stream",
     "text": [
      "R2 for train: 1.0\n",
      "R2 for score: 0.7651650741753026\n",
      "MSE: 138.987179723224\n",
      "RMSE: 11.789282409172493\n",
      "MAE: 97.12474395990638\n"
     ]
    }
   ],
   "source": [
    "predictions = lm.predict(X_train)\n",
    "r2t = r2_score(y_train, predictions)\n",
    "print(\"R2 for train:\", r2t)\n",
    "predictions = lm.predict(X_test)\n",
    "r2s = r2_score(y_test, predictions)\n",
    "print(\"R2 for score:\", r2s)\n",
    "mse = np.sqrt(mean_squared_error(y_test,predictions))\n",
    "print(\"MSE:\", mse)\n",
    "rmse = math.sqrt(mse)\n",
    "print(\"RMSE:\", rmse)\n",
    "mae = mean_absolute_error(y_test, predictions)\n",
    "print(\"MAE:\", mae)"
   ]
  },
  {
   "cell_type": "code",
   "execution_count": 52,
   "id": "10724337",
   "metadata": {},
   "outputs": [],
   "source": [
    "#Removing the outliers"
   ]
  },
  {
   "cell_type": "code",
   "execution_count": 53,
   "id": "5e3888cd",
   "metadata": {},
   "outputs": [],
   "source": [
    "iqr = np.percentile(file['Customer Lifetime Value'],75) - np.percentile(file['Customer Lifetime Value'],25)\n",
    "upper_limit = np.percentile(file['Customer Lifetime Value'],75) + 1.5*iqr\n",
    "lower_limit = np.percentile(file['Customer Lifetime Value'],25) - 1.5*iqr\n",
    "file_without_O = file[(file['Customer Lifetime Value']>lower_limit) & (file['Customer Lifetime Value']<upper_limit)]"
   ]
  },
  {
   "cell_type": "code",
   "execution_count": 54,
   "id": "094e3a21",
   "metadata": {},
   "outputs": [],
   "source": [
    "iqr = np.percentile(file['Income'],75) - np.percentile(file['Income'],25)\n",
    "upper_limit = np.percentile(file['Income'],75) + 1.5*iqr\n",
    "lower_limit = np.percentile(file['Income'],25) - 1.5*iqr\n",
    "file_without_O = file[(file['Income']>lower_limit) & (file['Income']<upper_limit)]"
   ]
  },
  {
   "cell_type": "code",
   "execution_count": 55,
   "id": "bf44ab1b",
   "metadata": {},
   "outputs": [],
   "source": [
    "iqr = np.percentile(file['Monthly Premium Auto'],75) - np.percentile(file['Monthly Premium Auto'],25)\n",
    "upper_limit = np.percentile(file['Monthly Premium Auto'],75) + 1.5*iqr\n",
    "lower_limit = np.percentile(file['Monthly Premium Auto'],25) - 1.5*iqr\n",
    "file_without_O = file[(file['Monthly Premium Auto']>lower_limit) & (file['Monthly Premium Auto']<upper_limit)]"
   ]
  },
  {
   "cell_type": "code",
   "execution_count": 56,
   "id": "4dfc3b02",
   "metadata": {},
   "outputs": [],
   "source": [
    "iqr = np.percentile(file['Months Since Last Claim'],75) - np.percentile(file['Months Since Last Claim'],25)\n",
    "upper_limit = np.percentile(file['Months Since Last Claim'],75) + 1.5*iqr\n",
    "lower_limit = np.percentile(file['Months Since Last Claim'],25) - 1.5*iqr\n",
    "file_without_O = file[(file['Months Since Last Claim']>lower_limit) & (file['Months Since Last Claim']<upper_limit)]"
   ]
  },
  {
   "cell_type": "code",
   "execution_count": 57,
   "id": "9c944fc4",
   "metadata": {},
   "outputs": [],
   "source": [
    "iqr = np.percentile(file['Months Since Policy Inception'],75) - np.percentile(file['Months Since Policy Inception'],25)\n",
    "upper_limit = np.percentile(file['Months Since Policy Inception'],75) + 1.5*iqr\n",
    "lower_limit = np.percentile(file['Months Since Policy Inception'],25) - 1.5*iqr\n",
    "file_without_O = file[(file['Months Since Policy Inception']>lower_limit) & (file['Months Since Policy Inception']<upper_limit)]"
   ]
  },
  {
   "cell_type": "code",
   "execution_count": 58,
   "id": "a01bdd53",
   "metadata": {},
   "outputs": [],
   "source": [
    "iqr = np.percentile(file['Number of Open Complaints'],75) - np.percentile(file['Number of Open Complaints'],25)\n",
    "upper_limit = np.percentile(file['Number of Open Complaints'],75) + 1.5*iqr\n",
    "lower_limit = np.percentile(file['Number of Open Complaints'],25) - 1.5*iqr\n",
    "file_without_O = file[(file['Number of Open Complaints']>lower_limit) & (file['Number of Open Complaints']<upper_limit)]"
   ]
  },
  {
   "cell_type": "code",
   "execution_count": 59,
   "id": "f5d68c74",
   "metadata": {},
   "outputs": [],
   "source": [
    "iqr = np.percentile(file['Number of Policies'],75) - np.percentile(file['Number of Policies'],25)\n",
    "upper_limit = np.percentile(file['Number of Policies'],75) + 1.5*iqr\n",
    "lower_limit = np.percentile(file['Number of Policies'],25) - 1.5*iqr\n",
    "file_without_O = file[(file['Number of Policies']>lower_limit) & (file['Number of Policies']<upper_limit)]"
   ]
  },
  {
   "cell_type": "code",
   "execution_count": 60,
   "id": "b426a1b1",
   "metadata": {},
   "outputs": [],
   "source": [
    "iqr = np.percentile(file['Total Claim Amount'],75) - np.percentile(file['Total Claim Amount'],25)\n",
    "upper_limit = np.percentile(file['Total Claim Amount'],75) + 1.5*iqr\n",
    "lower_limit = np.percentile(file['Total Claim Amount'],25) - 1.5*iqr\n",
    "file_without_O = file[(file['Total Claim Amount']>lower_limit) & (file['Total Claim Amount']<upper_limit)]"
   ]
  },
  {
   "cell_type": "code",
   "execution_count": 61,
   "id": "e888cdb0",
   "metadata": {},
   "outputs": [
    {
     "data": {
      "text/plain": [
       "(9134, 24)"
      ]
     },
     "metadata": {},
     "output_type": "display_data"
    },
    {
     "data": {
      "text/plain": [
       "(8681, 24)"
      ]
     },
     "execution_count": 61,
     "metadata": {},
     "output_type": "execute_result"
    }
   ],
   "source": [
    "display(file.shape)\n",
    "file_without_O.shape"
   ]
  },
  {
   "cell_type": "code",
   "execution_count": 62,
   "id": "2a9732f8",
   "metadata": {},
   "outputs": [],
   "source": [
    "y = file_without_O['Total Claim Amount']\n",
    "X = file_without_O.drop(['Total Claim Amount'], axis=1)\n",
    "X_num = X.select_dtypes(include = np.number)\n",
    "X_cat = X.select_dtypes(include = object)"
   ]
  },
  {
   "cell_type": "code",
   "execution_count": 63,
   "id": "d8433a0d",
   "metadata": {},
   "outputs": [],
   "source": [
    "flags_ohe = X\n",
    "categorical_columns = file_without_O[X_cat.columns]\n",
    "\n",
    "for col in categorical_columns:\n",
    "    col_ohe = pd.get_dummies(file_without_O[col], prefix=col, drop_first=True) #drop_first=True -> to eliminate the first column (to avoid collinearity)\n",
    "    flags_ohe = pd.concat((flags_ohe, col_ohe), axis=1).drop(col, axis=1)\n",
    "\n",
    "X_new = flags_ohe"
   ]
  },
  {
   "cell_type": "code",
   "execution_count": 64,
   "id": "5f1e9a1f",
   "metadata": {},
   "outputs": [],
   "source": [
    "X_train, X_test, y_train, y_test = train_test_split(X_new, y, test_size=0.2, random_state=42)"
   ]
  },
  {
   "cell_type": "code",
   "execution_count": 65,
   "id": "99cbeb13",
   "metadata": {},
   "outputs": [
    {
     "data": {
      "text/plain": [
       "LinearRegression()"
      ]
     },
     "execution_count": 65,
     "metadata": {},
     "output_type": "execute_result"
    }
   ],
   "source": [
    "lm = linear_model.LinearRegression()\n",
    "lm.fit(X_train,y_train)"
   ]
  },
  {
   "cell_type": "code",
   "execution_count": 66,
   "id": "2448c814",
   "metadata": {},
   "outputs": [
    {
     "name": "stdout",
     "output_type": "stream",
     "text": [
      "R2 for train: 1.0\n",
      "R2 for score: 0.7839250795336019\n",
      "MSE: 99.14783618837913\n",
      "RMSE: 9.957300647684548\n",
      "MAE: 76.33936349739184\n"
     ]
    }
   ],
   "source": [
    "predictions = lm.predict(X_train)\n",
    "r2t = r2_score(y_train, predictions)\n",
    "print(\"R2 for train:\", r2t)\n",
    "predictions = lm.predict(X_test)\n",
    "r2s = r2_score(y_test, predictions)\n",
    "print(\"R2 for score:\", r2s)\n",
    "mse = np.sqrt(mean_squared_error(y_test,predictions))\n",
    "print(\"MSE:\", mse)\n",
    "rmse = math.sqrt(mse)\n",
    "print(\"RMSE:\", rmse)\n",
    "mae = mean_absolute_error(y_test, predictions)\n",
    "print(\"MAE:\", mae)"
   ]
  },
  {
   "cell_type": "code",
   "execution_count": 67,
   "id": "038936bf",
   "metadata": {},
   "outputs": [],
   "source": [
    "#I'm going to check if this time the results are better with test_size=0.5"
   ]
  },
  {
   "cell_type": "code",
   "execution_count": 68,
   "id": "00f3c1a7",
   "metadata": {},
   "outputs": [],
   "source": [
    "X_train, X_test, y_train, y_test = train_test_split(X_new, y, test_size=0.5, random_state=42)"
   ]
  },
  {
   "cell_type": "code",
   "execution_count": 69,
   "id": "96f4b690",
   "metadata": {},
   "outputs": [
    {
     "data": {
      "text/plain": [
       "LinearRegression()"
      ]
     },
     "execution_count": 69,
     "metadata": {},
     "output_type": "execute_result"
    }
   ],
   "source": [
    "lm = linear_model.LinearRegression()\n",
    "lm.fit(X_train,y_train)"
   ]
  },
  {
   "cell_type": "code",
   "execution_count": 70,
   "id": "a0773d5c",
   "metadata": {},
   "outputs": [
    {
     "name": "stdout",
     "output_type": "stream",
     "text": [
      "R2 for train: 1.0\n",
      "R2 for score: 0.7757405377727026\n",
      "MSE: 100.19069288010408\n",
      "RMSE: 10.009530102862175\n",
      "MAE: 75.51400341053942\n"
     ]
    }
   ],
   "source": [
    "predictions = lm.predict(X_train)\n",
    "r2t = r2_score(y_train, predictions)\n",
    "print(\"R2 for train:\", r2t)\n",
    "predictions = lm.predict(X_test)\n",
    "r2s = r2_score(y_test, predictions)\n",
    "print(\"R2 for score:\", r2s)\n",
    "mse = np.sqrt(mean_squared_error(y_test,predictions))\n",
    "print(\"MSE:\", mse)\n",
    "rmse = math.sqrt(mse)\n",
    "print(\"RMSE:\", rmse)\n",
    "mae = mean_absolute_error(y_test, predictions)\n",
    "print(\"MAE:\", mae)"
   ]
  },
  {
   "cell_type": "code",
   "execution_count": null,
   "id": "1e0987be",
   "metadata": {},
   "outputs": [],
   "source": [
    "#This time the results are mainly the same"
   ]
  }
 ],
 "metadata": {
  "kernelspec": {
   "display_name": "Python 3 (ipykernel)",
   "language": "python",
   "name": "python3"
  },
  "language_info": {
   "codemirror_mode": {
    "name": "ipython",
    "version": 3
   },
   "file_extension": ".py",
   "mimetype": "text/x-python",
   "name": "python",
   "nbconvert_exporter": "python",
   "pygments_lexer": "ipython3",
   "version": "3.9.7"
  }
 },
 "nbformat": 4,
 "nbformat_minor": 5
}
